{
  "nbformat": 4,
  "nbformat_minor": 0,
  "metadata": {
    "colab": {
      "name": "4_27CW.ipynb",
      "provenance": [],
      "mount_file_id": "1Bc3SGmg6lR9xUe8RewGCR8NN9lC9T7a1",
      "authorship_tag": "ABX9TyNyXGKzIypgh+PfAKpo3a8t",
      "include_colab_link": true
    },
    "kernelspec": {
      "name": "python3",
      "display_name": "Python 3"
    },
    "language_info": {
      "name": "python"
    }
  },
  "cells": [
    {
      "cell_type": "markdown",
      "metadata": {
        "id": "view-in-github",
        "colab_type": "text"
      },
      "source": [
        "<a href=\"https://colab.research.google.com/github/KarenWWells/Can-Code-Class/blob/main/4_27CW.ipynb\" target=\"_parent\"><img src=\"https://colab.research.google.com/assets/colab-badge.svg\" alt=\"Open In Colab\"/></a>"
      ]
    },
    {
      "cell_type": "code",
      "execution_count": 2,
      "metadata": {
        "colab": {
          "base_uri": "https://localhost:8080/"
        },
        "id": "YQSalyGiJcCu",
        "outputId": "5553a56c-5e27-4967-b776-caf21d672da2"
      },
      "outputs": [
        {
          "output_type": "stream",
          "name": "stdout",
          "text": [
            "Index(['State', 'Year', 'Data.Population', 'Data.Rates.Property.All',\n",
            "       'Data.Rates.Property.Burglary', 'Data.Rates.Property.Larceny',\n",
            "       'Data.Rates.Property.Motor', 'Data.Rates.Violent.All',\n",
            "       'Data.Rates.Violent.Assault', 'Data.Rates.Violent.Murder',\n",
            "       'Data.Rates.Violent.Rape', 'Data.Rates.Violent.Robbery',\n",
            "       'Data.Totals.Property.All', 'Data.Totals.Property.Burglary',\n",
            "       'Data.Totals.Property.Larceny', 'Data.Totals.Property.Motor',\n",
            "       'Data.Totals.Violent.All', 'Data.Totals.Violent.Assault',\n",
            "       'Data.Totals.Violent.Murder', 'Data.Totals.Violent.Rape',\n",
            "       'Data.Totals.Violent.Robbery'],\n",
            "      dtype='object')\n",
            "<class 'pandas.core.frame.DataFrame'>\n",
            "RangeIndex: 3115 entries, 0 to 3114\n",
            "Data columns (total 21 columns):\n",
            " #   Column                         Non-Null Count  Dtype  \n",
            "---  ------                         --------------  -----  \n",
            " 0   State                          3115 non-null   object \n",
            " 1   Year                           3115 non-null   int64  \n",
            " 2   Data.Population                3115 non-null   int64  \n",
            " 3   Data.Rates.Property.All        3115 non-null   float64\n",
            " 4   Data.Rates.Property.Burglary   3115 non-null   float64\n",
            " 5   Data.Rates.Property.Larceny    3115 non-null   float64\n",
            " 6   Data.Rates.Property.Motor      3115 non-null   float64\n",
            " 7   Data.Rates.Violent.All         3115 non-null   float64\n",
            " 8   Data.Rates.Violent.Assault     3115 non-null   float64\n",
            " 9   Data.Rates.Violent.Murder      3115 non-null   float64\n",
            " 10  Data.Rates.Violent.Rape        3115 non-null   float64\n",
            " 11  Data.Rates.Violent.Robbery     3115 non-null   float64\n",
            " 12  Data.Totals.Property.All       3115 non-null   int64  \n",
            " 13  Data.Totals.Property.Burglary  3115 non-null   int64  \n",
            " 14  Data.Totals.Property.Larceny   3115 non-null   int64  \n",
            " 15  Data.Totals.Property.Motor     3115 non-null   int64  \n",
            " 16  Data.Totals.Violent.All        3115 non-null   int64  \n",
            " 17  Data.Totals.Violent.Assault    3115 non-null   int64  \n",
            " 18  Data.Totals.Violent.Murder     3115 non-null   int64  \n",
            " 19  Data.Totals.Violent.Rape       3115 non-null   int64  \n",
            " 20  Data.Totals.Violent.Robbery    3115 non-null   int64  \n",
            "dtypes: float64(9), int64(11), object(1)\n",
            "memory usage: 511.2+ KB\n"
          ]
        }
      ],
      "source": [
        "import pandas as pd\n",
        "\n",
        "df = pd.read_csv('https://raw.githubusercontent.com/KarenWWells/Can-Code-Class/main/state_crime.csv')\n",
        "\n",
        "print(df.columns)\n",
        "\n",
        "df.info()\n"
      ]
    },
    {
      "cell_type": "code",
      "source": [
        "df = pd.read_csv('/content/drive/MyDrive/Colab Notebooks/state_crime.csv')\n",
        "\n",
        "df.info()\n",
        "\n"
      ],
      "metadata": {
        "colab": {
          "base_uri": "https://localhost:8080/"
        },
        "id": "9pXAAjqqOkau",
        "outputId": "417d36db-bb54-4bf6-b1c3-1311e725d846"
      },
      "execution_count": 3,
      "outputs": [
        {
          "output_type": "stream",
          "name": "stdout",
          "text": [
            "<class 'pandas.core.frame.DataFrame'>\n",
            "RangeIndex: 3115 entries, 0 to 3114\n",
            "Data columns (total 21 columns):\n",
            " #   Column                         Non-Null Count  Dtype  \n",
            "---  ------                         --------------  -----  \n",
            " 0   State                          3115 non-null   object \n",
            " 1   Year                           3115 non-null   int64  \n",
            " 2   Data.Population                3115 non-null   int64  \n",
            " 3   Data.Rates.Property.All        3115 non-null   float64\n",
            " 4   Data.Rates.Property.Burglary   3115 non-null   float64\n",
            " 5   Data.Rates.Property.Larceny    3115 non-null   float64\n",
            " 6   Data.Rates.Property.Motor      3115 non-null   float64\n",
            " 7   Data.Rates.Violent.All         3115 non-null   float64\n",
            " 8   Data.Rates.Violent.Assault     3115 non-null   float64\n",
            " 9   Data.Rates.Violent.Murder      3115 non-null   float64\n",
            " 10  Data.Rates.Violent.Rape        3115 non-null   float64\n",
            " 11  Data.Rates.Violent.Robbery     3115 non-null   float64\n",
            " 12  Data.Totals.Property.All       3115 non-null   int64  \n",
            " 13  Data.Totals.Property.Burglary  3115 non-null   int64  \n",
            " 14  Data.Totals.Property.Larceny   3115 non-null   int64  \n",
            " 15  Data.Totals.Property.Motor     3115 non-null   int64  \n",
            " 16  Data.Totals.Violent.All        3115 non-null   int64  \n",
            " 17  Data.Totals.Violent.Assault    3115 non-null   int64  \n",
            " 18  Data.Totals.Violent.Murder     3115 non-null   int64  \n",
            " 19  Data.Totals.Violent.Rape       3115 non-null   int64  \n",
            " 20  Data.Totals.Violent.Robbery    3115 non-null   int64  \n",
            "dtypes: float64(9), int64(11), object(1)\n",
            "memory usage: 511.2+ KB\n"
          ]
        }
      ]
    }
  ]
}